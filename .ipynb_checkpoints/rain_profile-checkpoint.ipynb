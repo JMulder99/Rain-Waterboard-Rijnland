{
 "cells": [
  {
   "cell_type": "markdown",
   "metadata": {
    "id": "fxGIuyhT_ZRi"
   },
   "source": [
    "# Average precipitation profile Zandvoort"
   ]
  },
  {
   "cell_type": "code",
   "execution_count": 3,
   "metadata": {
    "id": "K5wHj-iB_ZRk"
   },
   "outputs": [],
   "source": [
    "import numpy as np\n",
    "import pandas as pd\n",
    "import seaborn as sns\n",
    "import matplotlib.pyplot as plt"
   ]
  },
  {
   "cell_type": "code",
   "execution_count": 4,
   "metadata": {
    "id": "Mt5VPQpC_ZS4"
   },
   "outputs": [],
   "source": [
    "# Import txt file\n",
    "df = pd.read_csv(\"neerslaggeg_ZANDVOORT_229.txt\", sep=',') # Put data in DataFrame\n",
    "df = df.fillna(0) # Replace None values with 0"
   ]
  },
  {
   "cell_type": "code",
   "execution_count": 5,
   "metadata": {
    "colab": {
     "base_uri": "https://localhost:8080/",
     "height": 260
    },
    "id": "PygYq6aj_ZTa",
    "outputId": "124f8734-a437-48ae-f8e2-0b1e75bbb7b2"
   },
   "outputs": [
    {
     "name": "stdout",
     "output_type": "stream",
     "text": [
      "       STN  YYYYMMDD     RD     SX  Unnamed: 4\n",
      "0      229  19510101     35                0.0\n",
      "1      229  19510102     35                0.0\n",
      "2      229  19510103      0                0.0\n",
      "3      229  19510104      0                0.0\n",
      "4      229  19510105     30                0.0\n",
      "...    ...       ...    ...    ...         ...\n",
      "25471  229  20200926     73      0         0.0\n",
      "25472  229  20200927    130      0         0.0\n",
      "25473  229  20200928     39      0         0.0\n",
      "25474  229  20200929     51      0         0.0\n",
      "25475  229  20200930     14      0         0.0\n",
      "\n",
      "[25476 rows x 5 columns]\n"
     ]
    }
   ],
   "source": [
    "print(df)"
   ]
  },
  {
   "cell_type": "code",
   "execution_count": 6,
   "metadata": {
    "colab": {
     "base_uri": "https://localhost:8080/",
     "height": 225
    },
    "id": "ZjWhtmN2_ZTh",
    "outputId": "dfd9b708-fc74-46ea-ee0a-8001d5724e18"
   },
   "outputs": [
    {
     "data": {
      "text/plain": [
       "Index(['STN', 'YYYYMMDD', '   RD', '   SX', 'Unnamed: 4'], dtype='object')"
      ]
     },
     "execution_count": 6,
     "metadata": {},
     "output_type": "execute_result"
    }
   ],
   "source": [
    "df.columns"
   ]
  },
  {
   "cell_type": "code",
   "execution_count": 7,
   "metadata": {},
   "outputs": [],
   "source": [
    "df = df.rename(columns={'   RD': 'RD'})\n",
    "df = df.rename(columns={'   SX': 'SX'})"
   ]
  },
  {
   "cell_type": "code",
   "execution_count": 11,
   "metadata": {},
   "outputs": [
    {
     "data": {
      "text/plain": [
       "STN             int64\n",
       "YYYYMMDD        int64\n",
       "RD              int64\n",
       "SX             object\n",
       "Unnamed: 4    float64\n",
       "dtype: object"
      ]
     },
     "execution_count": 11,
     "metadata": {},
     "output_type": "execute_result"
    }
   ],
   "source": [
    "df.dtypes"
   ]
  },
  {
   "cell_type": "code",
   "execution_count": 16,
   "metadata": {},
   "outputs": [
    {
     "data": {
      "text/plain": [
       "STN                    int64\n",
       "YYYYMMDD      datetime64[ns]\n",
       "RD                     int64\n",
       "SX                    object\n",
       "Unnamed: 4           float64\n",
       "dtype: object"
      ]
     },
     "execution_count": 16,
     "metadata": {},
     "output_type": "execute_result"
    }
   ],
   "source": [
    "df.YYYYMMDD = pd.to_datetime(df.YYYYMMDD, format='%Y%m%d')\n",
    "df.dtypes"
   ]
  },
  {
   "cell_type": "markdown",
   "metadata": {},
   "source": [
    "First, plot of a single year"
   ]
  },
  {
   "cell_type": "code",
   "execution_count": 9,
   "metadata": {
    "colab": {
     "base_uri": "https://localhost:8080/",
     "height": 295
    },
    "id": "kL00QA8i_ZTn",
    "outputId": "d192186a-2e53-4e73-f5d1-ea3cd6399942"
   },
   "outputs": [
    {
     "name": "stdout",
     "output_type": "stream",
     "text": [
      "1      19510102\n",
      "2      19510103\n",
      "3      19510104\n",
      "4      19510105\n",
      "5      19510106\n",
      "         ...   \n",
      "360    19511227\n",
      "361    19511228\n",
      "362    19511229\n",
      "363    19511230\n",
      "364    19511231\n",
      "Name: YYYYMMDD, Length: 364, dtype: int64\n"
     ]
    },
    {
     "data": {
      "image/png": "[encoded data removed]",
      "text/plain": [
       "<Figure size 432x288 with 1 Axes>"
      ]
     },
     "metadata": {
      "needs_background": "light"
     },
     "output_type": "display_data"
    }
   ],
   "source": [
    "single = df.iloc[1:365]\n",
    "print(single.YYYYMMDD)\n",
    "plt.plot(single.YYYYMMDD, single.RD)\n",
    "plt.show()"
   ]
  },
  {
   "cell_type": "code",
   "execution_count": null,
   "metadata": {
    "colab": {
     "base_uri": "https://localhost:8080/",
     "height": 225
    },
    "id": "Pgk7Zw-W_ZTu",
    "outputId": "696b25f5-9236-4d3b-fbf4-a49ecdb07066"
   },
   "outputs": [],
   "source": []
  },
  {
   "cell_type": "code",
   "execution_count": null,
   "metadata": {
    "colab": {
     "base_uri": "https://localhost:8080/",
     "height": 295
    },
    "id": "oUQnd027_ZT0",
    "outputId": "a49d012b-0f14-439b-cc94-1dc671bcf43e"
   },
   "outputs": [],
   "source": []
  },
  {
   "cell_type": "code",
   "execution_count": null,
   "metadata": {
    "colab": {
     "base_uri": "https://localhost:8080/",
     "height": 295
    },
    "id": "pOoigJc__ZT5",
    "outputId": "d8ddfecd-83d8-4c19-cc37-2ed7ee26075c"
   },
   "outputs": [],
   "source": []
  },
  {
   "cell_type": "code",
   "execution_count": null,
   "metadata": {},
   "outputs": [],
   "source": []
  }
 ],
 "metadata": {
  "colab": {
   "collapsed_sections": [
    "bc2-PEnw_ZS2"
   ],
   "name": "Kopie van 4top_classification.ipynb",
   "provenance": []
  },
  "kernelspec": {
   "display_name": "Python 3",
   "language": "python",
   "name": "python3"
  },
  "language_info": {
   "codemirror_mode": {
    "name": "ipython",
    "version": 3
   },
   "file_extension": ".py",
   "mimetype": "text/x-python",
   "name": "python",
   "nbconvert_exporter": "python",
   "pygments_lexer": "ipython3",
   "version": "3.6.5"
  }
 },
 "nbformat": 4,
 "nbformat_minor": 1
}
